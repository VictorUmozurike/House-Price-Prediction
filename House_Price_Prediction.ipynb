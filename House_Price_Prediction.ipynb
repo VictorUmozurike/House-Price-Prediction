{
  "nbformat": 4,
  "nbformat_minor": 0,
  "metadata": {
    "colab": {
      "provenance": []
    },
    "kernelspec": {
      "name": "python3",
      "display_name": "Python 3"
    },
    "language_info": {
      "name": "python"
    }
  },
  "cells": [
    {
      "cell_type": "code",
      "source": [
        "import numpy as np\n",
        "import pandas as pd\n",
        "import matplotlib.pyplot as plt"
      ],
      "metadata": {
        "id": "VJM0nO7qsMo1"
      },
      "execution_count": null,
      "outputs": []
    },
    {
      "cell_type": "code",
      "source": [
        "data = pd.read_csv('Housing Price data set.csv')\n",
        "data=data.drop(['Unnamed: 0','driveway','recroom','fullbase','airco','prefarea', 'gashw'],axis=1)\n",
        "mean = data.mean()[0]\n",
        "stddev = data.std()[0]\n",
        "data = (data - data.mean())/data.std()"
      ],
      "metadata": {
        "colab": {
          "base_uri": "https://localhost:8080/"
        },
        "id": "gGow-5X-sQAq",
        "outputId": "47149074-5cb9-4085-c562-a4860688ff8b"
      },
      "execution_count": null,
      "outputs": [
        {
          "output_type": "stream",
          "name": "stderr",
          "text": [
            "<ipython-input-2-920c43fd025b>:3: FutureWarning: Series.__getitem__ treating keys as positions is deprecated. In a future version, integer keys will always be treated as labels (consistent with DataFrame behavior). To access a value by position, use `ser.iloc[pos]`\n",
            "  mean = data.mean()[0]\n",
            "<ipython-input-2-920c43fd025b>:4: FutureWarning: Series.__getitem__ treating keys as positions is deprecated. In a future version, integer keys will always be treated as labels (consistent with DataFrame behavior). To access a value by position, use `ser.iloc[pos]`\n",
            "  stddev = data.std()[0]\n"
          ]
        }
      ]
    },
    {
      "cell_type": "code",
      "source": [
        "data.head()"
      ],
      "metadata": {
        "colab": {
          "base_uri": "https://localhost:8080/",
          "height": 206
        },
        "id": "mtlz_8bqsS0S",
        "outputId": "6554d063-bf27-4e43-8d20-b257c0d7db1f"
      },
      "execution_count": null,
      "outputs": [
        {
          "output_type": "execute_result",
          "data": {
            "text/plain": [
              "      price   lotsize  bedrooms   bathrms   stories  garagepl\n",
              "0 -0.978239  0.322732  0.047192 -0.568973  0.221501  0.357239\n",
              "1 -1.109312 -0.530526 -1.308947 -0.568973 -0.930304 -0.803788\n",
              "2 -0.697368 -0.964074  0.047192 -0.568973 -0.930304 -0.803788\n",
              "3 -0.285425  0.691709  0.047192 -0.568973  0.221501 -0.803788\n",
              "4 -0.266700  0.557955 -1.308947 -0.568973 -0.930304 -0.803788"
            ],
            "text/html": [
              "\n",
              "  <div id=\"df-41eb0437-32aa-4728-868b-52a1fd880e2e\" class=\"colab-df-container\">\n",
              "    <div>\n",
              "<style scoped>\n",
              "    .dataframe tbody tr th:only-of-type {\n",
              "        vertical-align: middle;\n",
              "    }\n",
              "\n",
              "    .dataframe tbody tr th {\n",
              "        vertical-align: top;\n",
              "    }\n",
              "\n",
              "    .dataframe thead th {\n",
              "        text-align: right;\n",
              "    }\n",
              "</style>\n",
              "<table border=\"1\" class=\"dataframe\">\n",
              "  <thead>\n",
              "    <tr style=\"text-align: right;\">\n",
              "      <th></th>\n",
              "      <th>price</th>\n",
              "      <th>lotsize</th>\n",
              "      <th>bedrooms</th>\n",
              "      <th>bathrms</th>\n",
              "      <th>stories</th>\n",
              "      <th>garagepl</th>\n",
              "    </tr>\n",
              "  </thead>\n",
              "  <tbody>\n",
              "    <tr>\n",
              "      <th>0</th>\n",
              "      <td>-0.978239</td>\n",
              "      <td>0.322732</td>\n",
              "      <td>0.047192</td>\n",
              "      <td>-0.568973</td>\n",
              "      <td>0.221501</td>\n",
              "      <td>0.357239</td>\n",
              "    </tr>\n",
              "    <tr>\n",
              "      <th>1</th>\n",
              "      <td>-1.109312</td>\n",
              "      <td>-0.530526</td>\n",
              "      <td>-1.308947</td>\n",
              "      <td>-0.568973</td>\n",
              "      <td>-0.930304</td>\n",
              "      <td>-0.803788</td>\n",
              "    </tr>\n",
              "    <tr>\n",
              "      <th>2</th>\n",
              "      <td>-0.697368</td>\n",
              "      <td>-0.964074</td>\n",
              "      <td>0.047192</td>\n",
              "      <td>-0.568973</td>\n",
              "      <td>-0.930304</td>\n",
              "      <td>-0.803788</td>\n",
              "    </tr>\n",
              "    <tr>\n",
              "      <th>3</th>\n",
              "      <td>-0.285425</td>\n",
              "      <td>0.691709</td>\n",
              "      <td>0.047192</td>\n",
              "      <td>-0.568973</td>\n",
              "      <td>0.221501</td>\n",
              "      <td>-0.803788</td>\n",
              "    </tr>\n",
              "    <tr>\n",
              "      <th>4</th>\n",
              "      <td>-0.266700</td>\n",
              "      <td>0.557955</td>\n",
              "      <td>-1.308947</td>\n",
              "      <td>-0.568973</td>\n",
              "      <td>-0.930304</td>\n",
              "      <td>-0.803788</td>\n",
              "    </tr>\n",
              "  </tbody>\n",
              "</table>\n",
              "</div>\n",
              "    <div class=\"colab-df-buttons\">\n",
              "\n",
              "  <div class=\"colab-df-container\">\n",
              "    <button class=\"colab-df-convert\" onclick=\"convertToInteractive('df-41eb0437-32aa-4728-868b-52a1fd880e2e')\"\n",
              "            title=\"Convert this dataframe to an interactive table.\"\n",
              "            style=\"display:none;\">\n",
              "\n",
              "  <svg xmlns=\"http://www.w3.org/2000/svg\" height=\"24px\" viewBox=\"0 -960 960 960\">\n",
              "    <path d=\"M120-120v-720h720v720H120Zm60-500h600v-160H180v160Zm220 220h160v-160H400v160Zm0 220h160v-160H400v160ZM180-400h160v-160H180v160Zm440 0h160v-160H620v160ZM180-180h160v-160H180v160Zm440 0h160v-160H620v160Z\"/>\n",
              "  </svg>\n",
              "    </button>\n",
              "\n",
              "  <style>\n",
              "    .colab-df-container {\n",
              "      display:flex;\n",
              "      gap: 12px;\n",
              "    }\n",
              "\n",
              "    .colab-df-convert {\n",
              "      background-color: #E8F0FE;\n",
              "      border: none;\n",
              "      border-radius: 50%;\n",
              "      cursor: pointer;\n",
              "      display: none;\n",
              "      fill: #1967D2;\n",
              "      height: 32px;\n",
              "      padding: 0 0 0 0;\n",
              "      width: 32px;\n",
              "    }\n",
              "\n",
              "    .colab-df-convert:hover {\n",
              "      background-color: #E2EBFA;\n",
              "      box-shadow: 0px 1px 2px rgba(60, 64, 67, 0.3), 0px 1px 3px 1px rgba(60, 64, 67, 0.15);\n",
              "      fill: #174EA6;\n",
              "    }\n",
              "\n",
              "    .colab-df-buttons div {\n",
              "      margin-bottom: 4px;\n",
              "    }\n",
              "\n",
              "    [theme=dark] .colab-df-convert {\n",
              "      background-color: #3B4455;\n",
              "      fill: #D2E3FC;\n",
              "    }\n",
              "\n",
              "    [theme=dark] .colab-df-convert:hover {\n",
              "      background-color: #434B5C;\n",
              "      box-shadow: 0px 1px 3px 1px rgba(0, 0, 0, 0.15);\n",
              "      filter: drop-shadow(0px 1px 2px rgba(0, 0, 0, 0.3));\n",
              "      fill: #FFFFFF;\n",
              "    }\n",
              "  </style>\n",
              "\n",
              "    <script>\n",
              "      const buttonEl =\n",
              "        document.querySelector('#df-41eb0437-32aa-4728-868b-52a1fd880e2e button.colab-df-convert');\n",
              "      buttonEl.style.display =\n",
              "        google.colab.kernel.accessAllowed ? 'block' : 'none';\n",
              "\n",
              "      async function convertToInteractive(key) {\n",
              "        const element = document.querySelector('#df-41eb0437-32aa-4728-868b-52a1fd880e2e');\n",
              "        const dataTable =\n",
              "          await google.colab.kernel.invokeFunction('convertToInteractive',\n",
              "                                                    [key], {});\n",
              "        if (!dataTable) return;\n",
              "\n",
              "        const docLinkHtml = 'Like what you see? Visit the ' +\n",
              "          '<a target=\"_blank\" href=https://colab.research.google.com/notebooks/data_table.ipynb>data table notebook</a>'\n",
              "          + ' to learn more about interactive tables.';\n",
              "        element.innerHTML = '';\n",
              "        dataTable['output_type'] = 'display_data';\n",
              "        await google.colab.output.renderOutput(dataTable, element);\n",
              "        const docLink = document.createElement('div');\n",
              "        docLink.innerHTML = docLinkHtml;\n",
              "        element.appendChild(docLink);\n",
              "      }\n",
              "    </script>\n",
              "  </div>\n",
              "\n",
              "\n",
              "<div id=\"df-04278076-c869-433a-ba97-134aa768b284\">\n",
              "  <button class=\"colab-df-quickchart\" onclick=\"quickchart('df-04278076-c869-433a-ba97-134aa768b284')\"\n",
              "            title=\"Suggest charts\"\n",
              "            style=\"display:none;\">\n",
              "\n",
              "<svg xmlns=\"http://www.w3.org/2000/svg\" height=\"24px\"viewBox=\"0 0 24 24\"\n",
              "     width=\"24px\">\n",
              "    <g>\n",
              "        <path d=\"M19 3H5c-1.1 0-2 .9-2 2v14c0 1.1.9 2 2 2h14c1.1 0 2-.9 2-2V5c0-1.1-.9-2-2-2zM9 17H7v-7h2v7zm4 0h-2V7h2v10zm4 0h-2v-4h2v4z\"/>\n",
              "    </g>\n",
              "</svg>\n",
              "  </button>\n",
              "\n",
              "<style>\n",
              "  .colab-df-quickchart {\n",
              "      --bg-color: #E8F0FE;\n",
              "      --fill-color: #1967D2;\n",
              "      --hover-bg-color: #E2EBFA;\n",
              "      --hover-fill-color: #174EA6;\n",
              "      --disabled-fill-color: #AAA;\n",
              "      --disabled-bg-color: #DDD;\n",
              "  }\n",
              "\n",
              "  [theme=dark] .colab-df-quickchart {\n",
              "      --bg-color: #3B4455;\n",
              "      --fill-color: #D2E3FC;\n",
              "      --hover-bg-color: #434B5C;\n",
              "      --hover-fill-color: #FFFFFF;\n",
              "      --disabled-bg-color: #3B4455;\n",
              "      --disabled-fill-color: #666;\n",
              "  }\n",
              "\n",
              "  .colab-df-quickchart {\n",
              "    background-color: var(--bg-color);\n",
              "    border: none;\n",
              "    border-radius: 50%;\n",
              "    cursor: pointer;\n",
              "    display: none;\n",
              "    fill: var(--fill-color);\n",
              "    height: 32px;\n",
              "    padding: 0;\n",
              "    width: 32px;\n",
              "  }\n",
              "\n",
              "  .colab-df-quickchart:hover {\n",
              "    background-color: var(--hover-bg-color);\n",
              "    box-shadow: 0 1px 2px rgba(60, 64, 67, 0.3), 0 1px 3px 1px rgba(60, 64, 67, 0.15);\n",
              "    fill: var(--button-hover-fill-color);\n",
              "  }\n",
              "\n",
              "  .colab-df-quickchart-complete:disabled,\n",
              "  .colab-df-quickchart-complete:disabled:hover {\n",
              "    background-color: var(--disabled-bg-color);\n",
              "    fill: var(--disabled-fill-color);\n",
              "    box-shadow: none;\n",
              "  }\n",
              "\n",
              "  .colab-df-spinner {\n",
              "    border: 2px solid var(--fill-color);\n",
              "    border-color: transparent;\n",
              "    border-bottom-color: var(--fill-color);\n",
              "    animation:\n",
              "      spin 1s steps(1) infinite;\n",
              "  }\n",
              "\n",
              "  @keyframes spin {\n",
              "    0% {\n",
              "      border-color: transparent;\n",
              "      border-bottom-color: var(--fill-color);\n",
              "      border-left-color: var(--fill-color);\n",
              "    }\n",
              "    20% {\n",
              "      border-color: transparent;\n",
              "      border-left-color: var(--fill-color);\n",
              "      border-top-color: var(--fill-color);\n",
              "    }\n",
              "    30% {\n",
              "      border-color: transparent;\n",
              "      border-left-color: var(--fill-color);\n",
              "      border-top-color: var(--fill-color);\n",
              "      border-right-color: var(--fill-color);\n",
              "    }\n",
              "    40% {\n",
              "      border-color: transparent;\n",
              "      border-right-color: var(--fill-color);\n",
              "      border-top-color: var(--fill-color);\n",
              "    }\n",
              "    60% {\n",
              "      border-color: transparent;\n",
              "      border-right-color: var(--fill-color);\n",
              "    }\n",
              "    80% {\n",
              "      border-color: transparent;\n",
              "      border-right-color: var(--fill-color);\n",
              "      border-bottom-color: var(--fill-color);\n",
              "    }\n",
              "    90% {\n",
              "      border-color: transparent;\n",
              "      border-bottom-color: var(--fill-color);\n",
              "    }\n",
              "  }\n",
              "</style>\n",
              "\n",
              "  <script>\n",
              "    async function quickchart(key) {\n",
              "      const quickchartButtonEl =\n",
              "        document.querySelector('#' + key + ' button');\n",
              "      quickchartButtonEl.disabled = true;  // To prevent multiple clicks.\n",
              "      quickchartButtonEl.classList.add('colab-df-spinner');\n",
              "      try {\n",
              "        const charts = await google.colab.kernel.invokeFunction(\n",
              "            'suggestCharts', [key], {});\n",
              "      } catch (error) {\n",
              "        console.error('Error during call to suggestCharts:', error);\n",
              "      }\n",
              "      quickchartButtonEl.classList.remove('colab-df-spinner');\n",
              "      quickchartButtonEl.classList.add('colab-df-quickchart-complete');\n",
              "    }\n",
              "    (() => {\n",
              "      let quickchartButtonEl =\n",
              "        document.querySelector('#df-04278076-c869-433a-ba97-134aa768b284 button');\n",
              "      quickchartButtonEl.style.display =\n",
              "        google.colab.kernel.accessAllowed ? 'block' : 'none';\n",
              "    })();\n",
              "  </script>\n",
              "</div>\n",
              "\n",
              "    </div>\n",
              "  </div>\n"
            ],
            "application/vnd.google.colaboratory.intrinsic+json": {
              "type": "dataframe",
              "variable_name": "data",
              "summary": "{\n  \"name\": \"data\",\n  \"rows\": 546,\n  \"fields\": [\n    {\n      \"column\": \"price\",\n      \"properties\": {\n        \"dtype\": \"number\",\n        \"std\": 1.0000000000000009,\n        \"min\": -1.614879544800194,\n        \"max\": 4.564277606127699,\n        \"num_unique_values\": 219,\n        \"samples\": [\n          1.4559743120245767,\n          -0.2292503655012121,\n          0.5384630987049805\n        ],\n        \"semantic_type\": \"\",\n        \"description\": \"\"\n      }\n    },\n    {\n      \"column\": \"lotsize\",\n      \"properties\": {\n        \"dtype\": \"number\",\n        \"std\": 1.0000000000000004,\n        \"min\": -1.6143954439482222,\n        \"max\": 5.096367855203785,\n        \"num_unique_values\": 284,\n        \"samples\": [\n          0.9453802474808939,\n          0.5090653278246878,\n          0.5302814867086049\n        ],\n        \"semantic_type\": \"\",\n        \"description\": \"\"\n      }\n    },\n    {\n      \"column\": \"bedrooms\",\n      \"properties\": {\n        \"dtype\": \"number\",\n        \"std\": 1.0000000000000013,\n        \"min\": -2.665084914764682,\n        \"max\": 4.115606434077426,\n        \"num_unique_values\": 6,\n        \"samples\": [\n          0.047191624772161024,\n          -1.3089466449962606,\n          4.115606434077426\n        ],\n        \"semantic_type\": \"\",\n        \"description\": \"\"\n      }\n    },\n    {\n      \"column\": \"bathrms\",\n      \"properties\": {\n        \"dtype\": \"number\",\n        \"std\": 1.0000000000000027,\n        \"min\": -0.5689730430612029,\n        \"max\": 5.405243909081427,\n        \"num_unique_values\": 4,\n        \"samples\": [\n          1.4224326076530067,\n          5.405243909081427,\n          -0.5689730430612029\n        ],\n        \"semantic_type\": \"\",\n        \"description\": \"\"\n      }\n    },\n    {\n      \"column\": \"stories\",\n      \"properties\": {\n        \"dtype\": \"number\",\n        \"std\": 1.0000000000000007,\n        \"min\": -0.9303040558443377,\n        \"max\": 2.5251110087203457,\n        \"num_unique_values\": 4,\n        \"samples\": [\n          -0.9303040558443377,\n          2.5251110087203457,\n          0.22150096567722324\n        ],\n        \"semantic_type\": \"\",\n        \"description\": \"\"\n      }\n    },\n    {\n      \"column\": \"garagepl\",\n      \"properties\": {\n        \"dtype\": \"number\",\n        \"std\": 0.9999999999999998,\n        \"min\": -0.8037877926389319,\n        \"max\": 2.6792926421297727,\n        \"num_unique_values\": 4,\n        \"samples\": [\n          -0.8037877926389319,\n          2.6792926421297727,\n          0.3572390189506364\n        ],\n        \"semantic_type\": \"\",\n        \"description\": \"\"\n      }\n    }\n  ]\n}"
            }
          },
          "metadata": {},
          "execution_count": 3
        }
      ]
    },
    {
      "cell_type": "code",
      "source": [
        "data=np.asarray(data)\n",
        "Y=data[:,0:1]\n",
        "X=data[:,1:]\n",
        "one = np.ones((len(X),1))\n",
        "X = np.concatenate((one,X),axis=1)\n",
        "split_ratio = 0.9\n",
        "split = int(split_ratio * X.shape[0])\n",
        "X_test = X[split+1:,:]\n",
        "X_train = X[:split+1, :]\n",
        "Y_test = Y[split+1:,:]\n",
        "Y_train = Y[:split+1, :]"
      ],
      "metadata": {
        "id": "9e14aoI3sVP_"
      },
      "execution_count": null,
      "outputs": []
    },
    {
      "cell_type": "code",
      "source": [
        "# helper Functions\n",
        "def computeCost(X,y,theta,lam):\n",
        "    tobesummed = np.power(((X.dot(theta.T))-y),2)+lam*np.sum(np.power(theta,2))\n",
        "    return np.sum(tobesummed)/(2 * len(X))\n",
        "\n",
        "def denormalise_price(price):\n",
        "    global mean\n",
        "    global stddev\n",
        "    ret = price * stddev + mean\n",
        "    return ret\n",
        "\n",
        "def computeError(predicted, actual):\n",
        "    error = 0\n",
        "    for i in range(len(predicted)):\n",
        "        error += abs(actual[i] - predicted[i]) / actual[i]\n",
        "    error /= len(actual)\n",
        "    return error[0]\n",
        "\n",
        "def plotGraph(x,y,labelX='X',labelY='Y',title='X vs Y'):\n",
        "  fig, ax = plt.subplots()\n",
        "  ax.plot(x, y, 'r')\n",
        "  ax.set_xlabel(labelX)\n",
        "  ax.set_ylabel(labelY)\n",
        "  ax.set_title(title)\n"
      ],
      "metadata": {
        "id": "H9PeBmowsefI"
      },
      "execution_count": null,
      "outputs": []
    },
    {
      "cell_type": "code",
      "source": [
        "# Gradient Descent\n",
        "def gradientDescent(X,y,theta,iters,alpha, lam):\n",
        "    lam_matrix = lam * np.ones(theta.shape)\n",
        "    lam_matrix[0][0] = 0\n",
        "    for i in range(iters):\n",
        "        theta = theta*(1- lam_matrix / len(X)) - (alpha/len(X)) * np.sum(X * (X @ theta.T - y), axis=0)\n",
        "\n",
        "    return theta"
      ],
      "metadata": {
        "id": "9xA4GP1Rslx-"
      },
      "execution_count": null,
      "outputs": []
    },
    {
      "cell_type": "code",
      "source": [
        "#Normal equation\n",
        "def normalEquation(X,Y,lam):\n",
        "    lam_matrix = lam * np.identity(X.shape[1])\n",
        "    lam_matrix[0][0] = 0\n",
        "    theta = np.linalg.inv(X.T.dot(X) + lam_matrix).dot(X.T).dot(Y)\n",
        "    return theta"
      ],
      "metadata": {
        "id": "L5gpQwWtstCB"
      },
      "execution_count": null,
      "outputs": []
    },
    {
      "cell_type": "code",
      "source": [
        "theta = np.zeros([1,X.shape[1]])\n",
        "alpha = .1 #learning rate\n",
        "iters = 500 #epoch\n",
        "error_matrix = []\n",
        "lam_range = 600 #maximam lamda\n",
        "for lam in range(lam_range):\n",
        "    g = gradientDescent(X_train,Y_train,theta,iters,alpha, lam)\n",
        "    Cost = computeCost(X_train,Y_train,g,lam)\n",
        "\n",
        "    Y_pred = X_test.dot(g.T)\n",
        "    error = computeError(denormalise_price(Y_pred),denormalise_price(Y_test))\n",
        "    error_matrix.append(error*100)\n",
        "optimal_lambda = 0\n",
        "min_error = 9999\n",
        "for i in range(len(error_matrix)):\n",
        "    if error_matrix[i] < min_error:\n",
        "        optimal_lambda = i\n",
        "        min_error = error_matrix[i]\n",
        "\n",
        "print(\"min Error  : \", (min_error),'%')\n",
        "print(\"Optimal Lambda : \", optimal_lambda)\n",
        "plotGraph(np.arange(lam_range),error_matrix,'lambda','error','lambda vs error')"
      ],
      "metadata": {
        "colab": {
          "base_uri": "https://localhost:8080/",
          "height": 507
        },
        "id": "72V9NnNgsyBv",
        "outputId": "54dd1027-ee4a-480c-ab52-a8784956d23d"
      },
      "execution_count": null,
      "outputs": [
        {
          "output_type": "stream",
          "name": "stdout",
          "text": [
            "min Error  :  13.960611355440056 %\n",
            "Optimal Lambda :  24\n"
          ]
        },
        {
          "output_type": "display_data",
          "data": {
            "text/plain": [
              "<Figure size 640x480 with 1 Axes>"
            ],
            "image/png": "[encoded data removed]"
          },
          "metadata": {}
        }
      ]
    },
    {
      "cell_type": "code",
      "source": [
        "\n",
        "error_mat = []\n",
        "lam_range = 600\n",
        "\n",
        "for lam in range(lam_range):\n",
        "    theta = normalEquation(X,Y,lam)\n",
        "    Cost = computeCost(X_train,Y_train,theta.T,lam)\n",
        "    Y_pred = X_test.dot(theta)\n",
        "    error = computeError(denormalise_price(Y_pred),denormalise_price(Y_test))\n",
        "    error_mat.append(error*100)\n",
        "\n",
        "optimal_lambda = 0\n",
        "min_error = 9999\n",
        "for i in range(len(error_mat)):\n",
        "    if error_mat[i] < min_error:\n",
        "        optimal_lambda = i\n",
        "        min_error = error_mat[i]\n",
        "print(\"min Error : \", min_error)\n",
        "print(\"Optimal Lambda : \", optimal_lambda)\n",
        "plotGraph(np.arange(lam_range),error_mat,'lambda','error','lambda vs error')"
      ],
      "metadata": {
        "colab": {
          "base_uri": "https://localhost:8080/"
        },
        "id": "LXzD0YYjs8cD",
        "outputId": "f25297b0-25d5-47ec-91d3-c99d1ca58bde"
      },
      "execution_count": null,
      "outputs": [
        {
          "output_type": "stream",
          "name": "stdout",
          "text": [
            "min Error :  13.432288061521582\n",
            "Optimal Lambda :  311\n"
          ]
        },
        {
          "output_type": "display_data",
          "data": {
            "text/plain": [
              "<Figure size 640x480 with 1 Axes>"
            ],
            "image/png": "[encoded data removed]"
          },
          "metadata": {}
        }
      ]
    },
    {
      "cell_type": "code",
      "source": [
        "print('pred price =',denormalise_price(Y_pred[2][0]),'actual price =',denormalise_price(Y_test[2])[0])"
      ],
      "metadata": {
        "colab": {
          "base_uri": "https://localhost:8080/"
        },
        "id": "MetBQlQis_17",
        "outputId": "13170a4b-8298-4246-8aa2-4e11f80c11e8"
      },
      "execution_count": null,
      "outputs": [
        {
          "output_type": "stream",
          "name": "stdout",
          "text": [
            "pred price = 57100.426317244695 actual price = 58500.0\n"
          ]
        }
      ]
    }
  ]
}